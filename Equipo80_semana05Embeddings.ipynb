{
  "nbformat": 4,
  "nbformat_minor": 0,
  "metadata": {
    "colab": {
      "provenance": []
    },
    "kernelspec": {
      "name": "python3",
      "display_name": "Python 3"
    },
    "widgets": {
      "application/vnd.jupyter.widget-state+json": {
        "b42eeacd9e7845ff9bcf0b6946f5b889": {
          "model_module": "@jupyter-widgets/controls",
          "model_name": "HBoxModel",
          "model_module_version": "1.5.0",
          "state": {
            "_dom_classes": [],
            "_model_module": "@jupyter-widgets/controls",
            "_model_module_version": "1.5.0",
            "_model_name": "HBoxModel",
            "_view_count": null,
            "_view_module": "@jupyter-widgets/controls",
            "_view_module_version": "1.5.0",
            "_view_name": "HBoxView",
            "box_style": "",
            "children": [
              "IPY_MODEL_5216877b7147475089502df6b51cc0a3",
              "IPY_MODEL_0a02c53705d54b9b99a2180076adbc66",
              "IPY_MODEL_339663c5ed6c4cc1acd8095a34669316"
            ],
            "layout": "IPY_MODEL_0baa0a9cf0e8432a938f6f7bf669e856"
          }
        },
        "5216877b7147475089502df6b51cc0a3": {
          "model_module": "@jupyter-widgets/controls",
          "model_name": "HTMLModel",
          "model_module_version": "1.5.0",
          "state": {
            "_dom_classes": [],
            "_model_module": "@jupyter-widgets/controls",
            "_model_module_version": "1.5.0",
            "_model_name": "HTMLModel",
            "_view_count": null,
            "_view_module": "@jupyter-widgets/controls",
            "_view_module_version": "1.5.0",
            "_view_name": "HTMLView",
            "description": "",
            "description_tooltip": null,
            "layout": "IPY_MODEL_0168fac2a90e4e3385e90a0088ea5168",
            "placeholder": "​",
            "style": "IPY_MODEL_3463a4dc85b4479d9187da163a93b9d7",
            "value": "Solicitando a OpenAI: 100%"
          }
        },
        "0a02c53705d54b9b99a2180076adbc66": {
          "model_module": "@jupyter-widgets/controls",
          "model_name": "FloatProgressModel",
          "model_module_version": "1.5.0",
          "state": {
            "_dom_classes": [],
            "_model_module": "@jupyter-widgets/controls",
            "_model_module_version": "1.5.0",
            "_model_name": "FloatProgressModel",
            "_view_count": null,
            "_view_module": "@jupyter-widgets/controls",
            "_view_module_version": "1.5.0",
            "_view_name": "ProgressView",
            "bar_style": "success",
            "description": "",
            "description_tooltip": null,
            "layout": "IPY_MODEL_4b7eaedbe88946fc8e9849cb13becd6b",
            "max": 16,
            "min": 0,
            "orientation": "horizontal",
            "style": "IPY_MODEL_d29245bdc1884d36bfe132743a678c7e",
            "value": 16
          }
        },
        "339663c5ed6c4cc1acd8095a34669316": {
          "model_module": "@jupyter-widgets/controls",
          "model_name": "HTMLModel",
          "model_module_version": "1.5.0",
          "state": {
            "_dom_classes": [],
            "_model_module": "@jupyter-widgets/controls",
            "_model_module_version": "1.5.0",
            "_model_name": "HTMLModel",
            "_view_count": null,
            "_view_module": "@jupyter-widgets/controls",
            "_view_module_version": "1.5.0",
            "_view_name": "HTMLView",
            "description": "",
            "description_tooltip": null,
            "layout": "IPY_MODEL_cd8de663b49f4591b9a363d327855d0c",
            "placeholder": "​",
            "style": "IPY_MODEL_8119be4285a44dc0a79bafaadf1c7b86",
            "value": " 16/16 [00:20&lt;00:00,  1.07s/it]"
          }
        },
        "0baa0a9cf0e8432a938f6f7bf669e856": {
          "model_module": "@jupyter-widgets/base",
          "model_name": "LayoutModel",
          "model_module_version": "1.2.0",
          "state": {
            "_model_module": "@jupyter-widgets/base",
            "_model_module_version": "1.2.0",
            "_model_name": "LayoutModel",
            "_view_count": null,
            "_view_module": "@jupyter-widgets/base",
            "_view_module_version": "1.2.0",
            "_view_name": "LayoutView",
            "align_content": null,
            "align_items": null,
            "align_self": null,
            "border": null,
            "bottom": null,
            "display": null,
            "flex": null,
            "flex_flow": null,
            "grid_area": null,
            "grid_auto_columns": null,
            "grid_auto_flow": null,
            "grid_auto_rows": null,
            "grid_column": null,
            "grid_gap": null,
            "grid_row": null,
            "grid_template_areas": null,
            "grid_template_columns": null,
            "grid_template_rows": null,
            "height": null,
            "justify_content": null,
            "justify_items": null,
            "left": null,
            "margin": null,
            "max_height": null,
            "max_width": null,
            "min_height": null,
            "min_width": null,
            "object_fit": null,
            "object_position": null,
            "order": null,
            "overflow": null,
            "overflow_x": null,
            "overflow_y": null,
            "padding": null,
            "right": null,
            "top": null,
            "visibility": null,
            "width": null
          }
        },
        "0168fac2a90e4e3385e90a0088ea5168": {
          "model_module": "@jupyter-widgets/base",
          "model_name": "LayoutModel",
          "model_module_version": "1.2.0",
          "state": {
            "_model_module": "@jupyter-widgets/base",
            "_model_module_version": "1.2.0",
            "_model_name": "LayoutModel",
            "_view_count": null,
            "_view_module": "@jupyter-widgets/base",
            "_view_module_version": "1.2.0",
            "_view_name": "LayoutView",
            "align_content": null,
            "align_items": null,
            "align_self": null,
            "border": null,
            "bottom": null,
            "display": null,
            "flex": null,
            "flex_flow": null,
            "grid_area": null,
            "grid_auto_columns": null,
            "grid_auto_flow": null,
            "grid_auto_rows": null,
            "grid_column": null,
            "grid_gap": null,
            "grid_row": null,
            "grid_template_areas": null,
            "grid_template_columns": null,
            "grid_template_rows": null,
            "height": null,
            "justify_content": null,
            "justify_items": null,
            "left": null,
            "margin": null,
            "max_height": null,
            "max_width": null,
            "min_height": null,
            "min_width": null,
            "object_fit": null,
            "object_position": null,
            "order": null,
            "overflow": null,
            "overflow_x": null,
            "overflow_y": null,
            "padding": null,
            "right": null,
            "top": null,
            "visibility": null,
            "width": null
          }
        },
        "3463a4dc85b4479d9187da163a93b9d7": {
          "model_module": "@jupyter-widgets/controls",
          "model_name": "DescriptionStyleModel",
          "model_module_version": "1.5.0",
          "state": {
            "_model_module": "@jupyter-widgets/controls",
            "_model_module_version": "1.5.0",
            "_model_name": "DescriptionStyleModel",
            "_view_count": null,
            "_view_module": "@jupyter-widgets/base",
            "_view_module_version": "1.2.0",
            "_view_name": "StyleView",
            "description_width": ""
          }
        },
        "4b7eaedbe88946fc8e9849cb13becd6b": {
          "model_module": "@jupyter-widgets/base",
          "model_name": "LayoutModel",
          "model_module_version": "1.2.0",
          "state": {
            "_model_module": "@jupyter-widgets/base",
            "_model_module_version": "1.2.0",
            "_model_name": "LayoutModel",
            "_view_count": null,
            "_view_module": "@jupyter-widgets/base",
            "_view_module_version": "1.2.0",
            "_view_name": "LayoutView",
            "align_content": null,
            "align_items": null,
            "align_self": null,
            "border": null,
            "bottom": null,
            "display": null,
            "flex": null,
            "flex_flow": null,
            "grid_area": null,
            "grid_auto_columns": null,
            "grid_auto_flow": null,
            "grid_auto_rows": null,
            "grid_column": null,
            "grid_gap": null,
            "grid_row": null,
            "grid_template_areas": null,
            "grid_template_columns": null,
            "grid_template_rows": null,
            "height": null,
            "justify_content": null,
            "justify_items": null,
            "left": null,
            "margin": null,
            "max_height": null,
            "max_width": null,
            "min_height": null,
            "min_width": null,
            "object_fit": null,
            "object_position": null,
            "order": null,
            "overflow": null,
            "overflow_x": null,
            "overflow_y": null,
            "padding": null,
            "right": null,
            "top": null,
            "visibility": null,
            "width": null
          }
        },
        "d29245bdc1884d36bfe132743a678c7e": {
          "model_module": "@jupyter-widgets/controls",
          "model_name": "ProgressStyleModel",
          "model_module_version": "1.5.0",
          "state": {
            "_model_module": "@jupyter-widgets/controls",
            "_model_module_version": "1.5.0",
            "_model_name": "ProgressStyleModel",
            "_view_count": null,
            "_view_module": "@jupyter-widgets/base",
            "_view_module_version": "1.2.0",
            "_view_name": "StyleView",
            "bar_color": null,
            "description_width": ""
          }
        },
        "cd8de663b49f4591b9a363d327855d0c": {
          "model_module": "@jupyter-widgets/base",
          "model_name": "LayoutModel",
          "model_module_version": "1.2.0",
          "state": {
            "_model_module": "@jupyter-widgets/base",
            "_model_module_version": "1.2.0",
            "_model_name": "LayoutModel",
            "_view_count": null,
            "_view_module": "@jupyter-widgets/base",
            "_view_module_version": "1.2.0",
            "_view_name": "LayoutView",
            "align_content": null,
            "align_items": null,
            "align_self": null,
            "border": null,
            "bottom": null,
            "display": null,
            "flex": null,
            "flex_flow": null,
            "grid_area": null,
            "grid_auto_columns": null,
            "grid_auto_flow": null,
            "grid_auto_rows": null,
            "grid_column": null,
            "grid_gap": null,
            "grid_row": null,
            "grid_template_areas": null,
            "grid_template_columns": null,
            "grid_template_rows": null,
            "height": null,
            "justify_content": null,
            "justify_items": null,
            "left": null,
            "margin": null,
            "max_height": null,
            "max_width": null,
            "min_height": null,
            "min_width": null,
            "object_fit": null,
            "object_position": null,
            "order": null,
            "overflow": null,
            "overflow_x": null,
            "overflow_y": null,
            "padding": null,
            "right": null,
            "top": null,
            "visibility": null,
            "width": null
          }
        },
        "8119be4285a44dc0a79bafaadf1c7b86": {
          "model_module": "@jupyter-widgets/controls",
          "model_name": "DescriptionStyleModel",
          "model_module_version": "1.5.0",
          "state": {
            "_model_module": "@jupyter-widgets/controls",
            "_model_module_version": "1.5.0",
            "_model_name": "DescriptionStyleModel",
            "_view_count": null,
            "_view_module": "@jupyter-widgets/base",
            "_view_module_version": "1.2.0",
            "_view_name": "StyleView",
            "description_width": ""
          }
        },
        "98750967fea546e7ba7a17b7185d2749": {
          "model_module": "@jupyter-widgets/controls",
          "model_name": "HBoxModel",
          "model_module_version": "1.5.0",
          "state": {
            "_dom_classes": [],
            "_model_module": "@jupyter-widgets/controls",
            "_model_module_version": "1.5.0",
            "_model_name": "HBoxModel",
            "_view_count": null,
            "_view_module": "@jupyter-widgets/controls",
            "_view_module_version": "1.5.0",
            "_view_name": "HBoxView",
            "box_style": "",
            "children": [
              "IPY_MODEL_570ea1e9b7784158a85f88d19177e5ea",
              "IPY_MODEL_586ca95baf554f37a4ab187c2de90c61",
              "IPY_MODEL_7446f61ec40548c485b06490cba5d395"
            ],
            "layout": "IPY_MODEL_23e75d2f485a49d9a674f26c2cd8f325"
          }
        },
        "570ea1e9b7784158a85f88d19177e5ea": {
          "model_module": "@jupyter-widgets/controls",
          "model_name": "HTMLModel",
          "model_module_version": "1.5.0",
          "state": {
            "_dom_classes": [],
            "_model_module": "@jupyter-widgets/controls",
            "_model_module_version": "1.5.0",
            "_model_name": "HTMLModel",
            "_view_count": null,
            "_view_module": "@jupyter-widgets/controls",
            "_view_module_version": "1.5.0",
            "_view_name": "HTMLView",
            "description": "",
            "description_tooltip": null,
            "layout": "IPY_MODEL_df2e224cf18844fe8e965eff580a79df",
            "placeholder": "​",
            "style": "IPY_MODEL_5b179f0ce43e413b9bf8e47d79ff0cb3",
            "value": "OpenAI – doc embeddings: 100%"
          }
        },
        "586ca95baf554f37a4ab187c2de90c61": {
          "model_module": "@jupyter-widgets/controls",
          "model_name": "FloatProgressModel",
          "model_module_version": "1.5.0",
          "state": {
            "_dom_classes": [],
            "_model_module": "@jupyter-widgets/controls",
            "_model_module_version": "1.5.0",
            "_model_name": "FloatProgressModel",
            "_view_count": null,
            "_view_module": "@jupyter-widgets/controls",
            "_view_module_version": "1.5.0",
            "_view_name": "ProgressView",
            "bar_style": "success",
            "description": "",
            "description_tooltip": null,
            "layout": "IPY_MODEL_16bac9de905143cd9fff0da0dfe75474",
            "max": 3000,
            "min": 0,
            "orientation": "horizontal",
            "style": "IPY_MODEL_25bc8a398c2e4176aff6201efdc84047",
            "value": 3000
          }
        },
        "7446f61ec40548c485b06490cba5d395": {
          "model_module": "@jupyter-widgets/controls",
          "model_name": "HTMLModel",
          "model_module_version": "1.5.0",
          "state": {
            "_dom_classes": [],
            "_model_module": "@jupyter-widgets/controls",
            "_model_module_version": "1.5.0",
            "_model_name": "HTMLModel",
            "_view_count": null,
            "_view_module": "@jupyter-widgets/controls",
            "_view_module_version": "1.5.0",
            "_view_name": "HTMLView",
            "description": "",
            "description_tooltip": null,
            "layout": "IPY_MODEL_6d011c09504545fc85f2d474b8865f0d",
            "placeholder": "​",
            "style": "IPY_MODEL_7e0d3e2f2d934b248a6fa6f2de641d36",
            "value": " 3000/3000 [27:26&lt;00:00,  3.11it/s]"
          }
        },
        "23e75d2f485a49d9a674f26c2cd8f325": {
          "model_module": "@jupyter-widgets/base",
          "model_name": "LayoutModel",
          "model_module_version": "1.2.0",
          "state": {
            "_model_module": "@jupyter-widgets/base",
            "_model_module_version": "1.2.0",
            "_model_name": "LayoutModel",
            "_view_count": null,
            "_view_module": "@jupyter-widgets/base",
            "_view_module_version": "1.2.0",
            "_view_name": "LayoutView",
            "align_content": null,
            "align_items": null,
            "align_self": null,
            "border": null,
            "bottom": null,
            "display": null,
            "flex": null,
            "flex_flow": null,
            "grid_area": null,
            "grid_auto_columns": null,
            "grid_auto_flow": null,
            "grid_auto_rows": null,
            "grid_column": null,
            "grid_gap": null,
            "grid_row": null,
            "grid_template_areas": null,
            "grid_template_columns": null,
            "grid_template_rows": null,
            "height": null,
            "justify_content": null,
            "justify_items": null,
            "left": null,
            "margin": null,
            "max_height": null,
            "max_width": null,
            "min_height": null,
            "min_width": null,
            "object_fit": null,
            "object_position": null,
            "order": null,
            "overflow": null,
            "overflow_x": null,
            "overflow_y": null,
            "padding": null,
            "right": null,
            "top": null,
            "visibility": null,
            "width": null
          }
        },
        "df2e224cf18844fe8e965eff580a79df": {
          "model_module": "@jupyter-widgets/base",
          "model_name": "LayoutModel",
          "model_module_version": "1.2.0",
          "state": {
            "_model_module": "@jupyter-widgets/base",
            "_model_module_version": "1.2.0",
            "_model_name": "LayoutModel",
            "_view_count": null,
            "_view_module": "@jupyter-widgets/base",
            "_view_module_version": "1.2.0",
            "_view_name": "LayoutView",
            "align_content": null,
            "align_items": null,
            "align_self": null,
            "border": null,
            "bottom": null,
            "display": null,
            "flex": null,
            "flex_flow": null,
            "grid_area": null,
            "grid_auto_columns": null,
            "grid_auto_flow": null,
            "grid_auto_rows": null,
            "grid_column": null,
            "grid_gap": null,
            "grid_row": null,
            "grid_template_areas": null,
            "grid_template_columns": null,
            "grid_template_rows": null,
            "height": null,
            "justify_content": null,
            "justify_items": null,
            "left": null,
            "margin": null,
            "max_height": null,
            "max_width": null,
            "min_height": null,
            "min_width": null,
            "object_fit": null,
            "object_position": null,
            "order": null,
            "overflow": null,
            "overflow_x": null,
            "overflow_y": null,
            "padding": null,
            "right": null,
            "top": null,
            "visibility": null,
            "width": null
          }
        },
        "5b179f0ce43e413b9bf8e47d79ff0cb3": {
          "model_module": "@jupyter-widgets/controls",
          "model_name": "DescriptionStyleModel",
          "model_module_version": "1.5.0",
          "state": {
            "_model_module": "@jupyter-widgets/controls",
            "_model_module_version": "1.5.0",
            "_model_name": "DescriptionStyleModel",
            "_view_count": null,
            "_view_module": "@jupyter-widgets/base",
            "_view_module_version": "1.2.0",
            "_view_name": "StyleView",
            "description_width": ""
          }
        },
        "16bac9de905143cd9fff0da0dfe75474": {
          "model_module": "@jupyter-widgets/base",
          "model_name": "LayoutModel",
          "model_module_version": "1.2.0",
          "state": {
            "_model_module": "@jupyter-widgets/base",
            "_model_module_version": "1.2.0",
            "_model_name": "LayoutModel",
            "_view_count": null,
            "_view_module": "@jupyter-widgets/base",
            "_view_module_version": "1.2.0",
            "_view_name": "LayoutView",
            "align_content": null,
            "align_items": null,
            "align_self": null,
            "border": null,
            "bottom": null,
            "display": null,
            "flex": null,
            "flex_flow": null,
            "grid_area": null,
            "grid_auto_columns": null,
            "grid_auto_flow": null,
            "grid_auto_rows": null,
            "grid_column": null,
            "grid_gap": null,
            "grid_row": null,
            "grid_template_areas": null,
            "grid_template_columns": null,
            "grid_template_rows": null,
            "height": null,
            "justify_content": null,
            "justify_items": null,
            "left": null,
            "margin": null,
            "max_height": null,
            "max_width": null,
            "min_height": null,
            "min_width": null,
            "object_fit": null,
            "object_position": null,
            "order": null,
            "overflow": null,
            "overflow_x": null,
            "overflow_y": null,
            "padding": null,
            "right": null,
            "top": null,
            "visibility": null,
            "width": null
          }
        },
        "25bc8a398c2e4176aff6201efdc84047": {
          "model_module": "@jupyter-widgets/controls",
          "model_name": "ProgressStyleModel",
          "model_module_version": "1.5.0",
          "state": {
            "_model_module": "@jupyter-widgets/controls",
            "_model_module_version": "1.5.0",
            "_model_name": "ProgressStyleModel",
            "_view_count": null,
            "_view_module": "@jupyter-widgets/base",
            "_view_module_version": "1.2.0",
            "_view_name": "StyleView",
            "bar_color": null,
            "description_width": ""
          }
        },
        "6d011c09504545fc85f2d474b8865f0d": {
          "model_module": "@jupyter-widgets/base",
          "model_name": "LayoutModel",
          "model_module_version": "1.2.0",
          "state": {
            "_model_module": "@jupyter-widgets/base",
            "_model_module_version": "1.2.0",
            "_model_name": "LayoutModel",
            "_view_count": null,
            "_view_module": "@jupyter-widgets/base",
            "_view_module_version": "1.2.0",
            "_view_name": "LayoutView",
            "align_content": null,
            "align_items": null,
            "align_self": null,
            "border": null,
            "bottom": null,
            "display": null,
            "flex": null,
            "flex_flow": null,
            "grid_area": null,
            "grid_auto_columns": null,
            "grid_auto_flow": null,
            "grid_auto_rows": null,
            "grid_column": null,
            "grid_gap": null,
            "grid_row": null,
            "grid_template_areas": null,
            "grid_template_columns": null,
            "grid_template_rows": null,
            "height": null,
            "justify_content": null,
            "justify_items": null,
            "left": null,
            "margin": null,
            "max_height": null,
            "max_width": null,
            "min_height": null,
            "min_width": null,
            "object_fit": null,
            "object_position": null,
            "order": null,
            "overflow": null,
            "overflow_x": null,
            "overflow_y": null,
            "padding": null,
            "right": null,
            "top": null,
            "visibility": null,
            "width": null
          }
        },
        "7e0d3e2f2d934b248a6fa6f2de641d36": {
          "model_module": "@jupyter-widgets/controls",
          "model_name": "DescriptionStyleModel",
          "model_module_version": "1.5.0",
          "state": {
            "_model_module": "@jupyter-widgets/controls",
            "_model_module_version": "1.5.0",
            "_model_name": "DescriptionStyleModel",
            "_view_count": null,
            "_view_module": "@jupyter-widgets/base",
            "_view_module_version": "1.2.0",
            "_view_name": "StyleView",
            "description_width": ""
          }
        }
      }
    }
  },
  "cells": [
    {
      "cell_type": "markdown",
      "source": [
        "# **Maestría en Inteligencia Artificial Aplicada**\n",
        "\n",
        "## Curso: **Procesamiento de Lenguaje Natural**\n",
        "\n",
        "### Tecnológico de Monterrey\n",
        "\n",
        "### Prof Luis Eduardo Falcón Morales\n",
        "\n",
        "## Adtividad Semana 5\n",
        "\n",
        "### **Vectores Embebidos de OpenAI**"
      ],
      "metadata": {
        "id": "lNl8G3vHkPSX"
      }
    },
    {
      "cell_type": "markdown",
      "source": [
        "#### **Nombres y matrículas de los integrantes del equipo:**\n",
        "\n",
        "\n",
        "\n",
        "*   Arturo Jain Delgadillo (A01794992)\n",
        "*   Ramiro Martin Jaramillo Romero (A01171251)\n",
        "*   José Ashamat Jaimes Saavedra (A01736690)\n",
        "*   Owen Jáuregui Borbón (A01638122)\n",
        "\n"
      ],
      "metadata": {
        "id": "U69mHA6i201G"
      }
    },
    {
      "cell_type": "code",
      "metadata": {
        "id": "wCL2p6MA8NuT"
      },
      "source": [
        "# Aquí deberás incluir todas las librerías que requieras durante esta actividad:\n",
        "import os, json, pickle, re, string, unicodedata\n",
        "from pathlib import Path\n",
        "from collections import Counter\n",
        "\n",
        "import numpy as np\n",
        "import pandas as pd\n",
        "from sklearn.model_selection import train_test_split\n",
        "from sklearn.linear_model import LogisticRegression\n",
        "from sklearn.ensemble import RandomForestClassifier\n",
        "from sklearn.pipeline        import make_pipeline\n",
        "from sklearn.preprocessing   import StandardScaler\n",
        "from sklearn.metrics import accuracy_score, classification_report\n",
        "\n",
        "import time, math, openai, tiktoken\n",
        "from tqdm.auto import tqdm\n",
        "\n",
        "import nltk\n",
        "from nltk.corpus import stopwords\n",
        "\n",
        "# Rutas\n",
        "DATA_DIR  = Path(\"/content/drive/MyDrive/2025-1/Vectores Embebidos/\")\n",
        "amazon_p  = DATA_DIR / \"amazon5.txt\"\n",
        "imdb_p    = DATA_DIR / \"imdb5.txt\"\n",
        "yelp_p    = DATA_DIR / \"yelp5.txt\"\n",
        "CACHE_DIR = Path(\"cache\"); CACHE_DIR.mkdir(exist_ok=True)"
      ],
      "execution_count": null,
      "outputs": []
    },
    {
      "cell_type": "code",
      "source": [
        "# Incluye las celdas necesarias para tu acceso a la API de OpenAI.\n",
        "\n",
        "# API de OpenAI\n",
        "OPENAI_API_KEY = os.getenv(\"OPENAI_API_KEY\", \"<Poner aquí tu API KEY>\")\n",
        "import openai\n",
        "openai.api_key = OPENAI_API_KEY"
      ],
      "metadata": {
        "id": "7wc107K-oIV4"
      },
      "execution_count": null,
      "outputs": []
    },
    {
      "cell_type": "markdown",
      "source": [
        "# **Pregunta - 1:**\n",
        "\n"
      ],
      "metadata": {
        "id": "4c34ZOnna3Gu"
      }
    },
    {
      "cell_type": "markdown",
      "source": [
        "Descarga los 3 archivos de Canvas y genera un nuevo DataFrame de Pandas con ellos.\n",
        "\n",
        "**Llama simplemente \"df\" a dicho DataFrame.**\n",
        "\n",
        "Los archivos los encuentras en Canvas: amazon5.txt, imdb5.txt, yelp5.txt.\n",
        "\n"
      ],
      "metadata": {
        "id": "yeNllxRdmeWg"
      }
    },
    {
      "cell_type": "code",
      "source": [
        "\n",
        "# ******* Inlcuye a continuación todas las líneas de código y celdas que requieras: ***********\n",
        "\n",
        "def load_txt(path: Path) -> pd.DataFrame:\n",
        "    \"\"\"Lee archivos donde cada línea termina con la etiqueta 0/1.\n",
        "\n",
        "    El separador puede ser TAB (`\\t`) –caso Amazon/Yelp– o varios espacios –caso IMDB–.\n",
        "    Ignora líneas vacías o cabeceras que no terminen con 0 o 1.\n",
        "    \"\"\"\n",
        "    rows = []\n",
        "    with open(path, encoding=\"utf-8\") as f:\n",
        "        for line in f:\n",
        "            line = line.rstrip(\"\\n\")\n",
        "            if not line.strip():\n",
        "                continue  # salta líneas en blanco\n",
        "            # Intenta primero con TAB; si no, con espacios múltiples\n",
        "            if \"\\t\" in line:\n",
        "                parts = line.rsplit(\"\\t\", 1)\n",
        "            else:\n",
        "                parts = line.rsplit(\" \", 1)\n",
        "            if len(parts) != 2 or parts[1] not in {\"0\", \"1\"}:\n",
        "                # línea malformada (e.g. cabecera); se omite\n",
        "                continue\n",
        "            txt, lab = parts[0].strip(), parts[1]\n",
        "            rows.append({\"text\": txt, \"label\": int(lab)})\n",
        "    if not rows:\n",
        "        raise ValueError(f\"No se pudieron parsear registros válidos en {path}\")\n",
        "    return pd.DataFrame(rows)\n",
        "\n",
        "# Carga y concatenación\n",
        "frames = [load_txt(p) for p in (amazon_p, imdb_p, yelp_p)]\n",
        "df = pd.concat(frames, ignore_index=True)\n",
        "print(\"Shape final:\", df.shape)  # esperado: (3000, 2)\n",
        "\n",
        "# *********** Aquí termina la sección de agregar código *************\n"
      ],
      "metadata": {
        "id": "T_lyEFRkxzC6",
        "colab": {
          "base_uri": "https://localhost:8080/"
        },
        "outputId": "cc166858-2e77-4e88-c85a-f781a8997c49"
      },
      "execution_count": null,
      "outputs": [
        {
          "output_type": "stream",
          "name": "stdout",
          "text": [
            "Shape final: (3000, 2)\n"
          ]
        }
      ]
    },
    {
      "cell_type": "code",
      "source": [
        "# Verifiquemos la información del DataFrame:\n",
        "df.info()"
      ],
      "metadata": {
        "id": "3-w1xMLYnm9b",
        "colab": {
          "base_uri": "https://localhost:8080/"
        },
        "outputId": "7eca406a-081a-404a-978f-f462caa5a707"
      },
      "execution_count": null,
      "outputs": [
        {
          "output_type": "stream",
          "name": "stdout",
          "text": [
            "<class 'pandas.core.frame.DataFrame'>\n",
            "RangeIndex: 3000 entries, 0 to 2999\n",
            "Data columns (total 2 columns):\n",
            " #   Column  Non-Null Count  Dtype \n",
            "---  ------  --------------  ----- \n",
            " 0   text    3000 non-null   object\n",
            " 1   label   3000 non-null   int64 \n",
            "dtypes: int64(1), object(1)\n",
            "memory usage: 47.0+ KB\n"
          ]
        }
      ]
    },
    {
      "cell_type": "code",
      "source": [
        "# Y veamos sus primeros registros:\n",
        "\n",
        "df.head()"
      ],
      "metadata": {
        "id": "NfVUcYe1nubT",
        "colab": {
          "base_uri": "https://localhost:8080/",
          "height": 206
        },
        "outputId": "8707f630-7a3d-4695-8109-2a5460a62173"
      },
      "execution_count": null,
      "outputs": [
        {
          "output_type": "execute_result",
          "data": {
            "text/plain": [
              "                                                text  label\n",
              "0  So there is no way for me to plug it in here i...      0\n",
              "1                        Good case, Excellent value.      1\n",
              "2                             Great for the jawbone.      1\n",
              "3  Tied to charger for conversations lasting more...      0\n",
              "4                                  The mic is great.      1"
            ],
            "text/html": [
              "\n",
              "  <div id=\"df-164874c4-e2c0-4632-9bc5-c09a82bbbeeb\" class=\"colab-df-container\">\n",
              "    <div>\n",
              "<style scoped>\n",
              "    .dataframe tbody tr th:only-of-type {\n",
              "        vertical-align: middle;\n",
              "    }\n",
              "\n",
              "    .dataframe tbody tr th {\n",
              "        vertical-align: top;\n",
              "    }\n",
              "\n",
              "    .dataframe thead th {\n",
              "        text-align: right;\n",
              "    }\n",
              "</style>\n",
              "<table border=\"1\" class=\"dataframe\">\n",
              "  <thead>\n",
              "    <tr style=\"text-align: right;\">\n",
              "      <th></th>\n",
              "      <th>text</th>\n",
              "      <th>label</th>\n",
              "    </tr>\n",
              "  </thead>\n",
              "  <tbody>\n",
              "    <tr>\n",
              "      <th>0</th>\n",
              "      <td>So there is no way for me to plug it in here i...</td>\n",
              "      <td>0</td>\n",
              "    </tr>\n",
              "    <tr>\n",
              "      <th>1</th>\n",
              "      <td>Good case, Excellent value.</td>\n",
              "      <td>1</td>\n",
              "    </tr>\n",
              "    <tr>\n",
              "      <th>2</th>\n",
              "      <td>Great for the jawbone.</td>\n",
              "      <td>1</td>\n",
              "    </tr>\n",
              "    <tr>\n",
              "      <th>3</th>\n",
              "      <td>Tied to charger for conversations lasting more...</td>\n",
              "      <td>0</td>\n",
              "    </tr>\n",
              "    <tr>\n",
              "      <th>4</th>\n",
              "      <td>The mic is great.</td>\n",
              "      <td>1</td>\n",
              "    </tr>\n",
              "  </tbody>\n",
              "</table>\n",
              "</div>\n",
              "    <div class=\"colab-df-buttons\">\n",
              "\n",
              "  <div class=\"colab-df-container\">\n",
              "    <button class=\"colab-df-convert\" onclick=\"convertToInteractive('df-164874c4-e2c0-4632-9bc5-c09a82bbbeeb')\"\n",
              "            title=\"Convert this dataframe to an interactive table.\"\n",
              "            style=\"display:none;\">\n",
              "\n",
              "  <svg xmlns=\"http://www.w3.org/2000/svg\" height=\"24px\" viewBox=\"0 -960 960 960\">\n",
              "    <path d=\"M120-120v-720h720v720H120Zm60-500h600v-160H180v160Zm220 220h160v-160H400v160Zm0 220h160v-160H400v160ZM180-400h160v-160H180v160Zm440 0h160v-160H620v160ZM180-180h160v-160H180v160Zm440 0h160v-160H620v160Z\"/>\n",
              "  </svg>\n",
              "    </button>\n",
              "\n",
              "  <style>\n",
              "    .colab-df-container {\n",
              "      display:flex;\n",
              "      gap: 12px;\n",
              "    }\n",
              "\n",
              "    .colab-df-convert {\n",
              "      background-color: #E8F0FE;\n",
              "      border: none;\n",
              "      border-radius: 50%;\n",
              "      cursor: pointer;\n",
              "      display: none;\n",
              "      fill: #1967D2;\n",
              "      height: 32px;\n",
              "      padding: 0 0 0 0;\n",
              "      width: 32px;\n",
              "    }\n",
              "\n",
              "    .colab-df-convert:hover {\n",
              "      background-color: #E2EBFA;\n",
              "      box-shadow: 0px 1px 2px rgba(60, 64, 67, 0.3), 0px 1px 3px 1px rgba(60, 64, 67, 0.15);\n",
              "      fill: #174EA6;\n",
              "    }\n",
              "\n",
              "    .colab-df-buttons div {\n",
              "      margin-bottom: 4px;\n",
              "    }\n",
              "\n",
              "    [theme=dark] .colab-df-convert {\n",
              "      background-color: #3B4455;\n",
              "      fill: #D2E3FC;\n",
              "    }\n",
              "\n",
              "    [theme=dark] .colab-df-convert:hover {\n",
              "      background-color: #434B5C;\n",
              "      box-shadow: 0px 1px 3px 1px rgba(0, 0, 0, 0.15);\n",
              "      filter: drop-shadow(0px 1px 2px rgba(0, 0, 0, 0.3));\n",
              "      fill: #FFFFFF;\n",
              "    }\n",
              "  </style>\n",
              "\n",
              "    <script>\n",
              "      const buttonEl =\n",
              "        document.querySelector('#df-164874c4-e2c0-4632-9bc5-c09a82bbbeeb button.colab-df-convert');\n",
              "      buttonEl.style.display =\n",
              "        google.colab.kernel.accessAllowed ? 'block' : 'none';\n",
              "\n",
              "      async function convertToInteractive(key) {\n",
              "        const element = document.querySelector('#df-164874c4-e2c0-4632-9bc5-c09a82bbbeeb');\n",
              "        const dataTable =\n",
              "          await google.colab.kernel.invokeFunction('convertToInteractive',\n",
              "                                                    [key], {});\n",
              "        if (!dataTable) return;\n",
              "\n",
              "        const docLinkHtml = 'Like what you see? Visit the ' +\n",
              "          '<a target=\"_blank\" href=https://colab.research.google.com/notebooks/data_table.ipynb>data table notebook</a>'\n",
              "          + ' to learn more about interactive tables.';\n",
              "        element.innerHTML = '';\n",
              "        dataTable['output_type'] = 'display_data';\n",
              "        await google.colab.output.renderOutput(dataTable, element);\n",
              "        const docLink = document.createElement('div');\n",
              "        docLink.innerHTML = docLinkHtml;\n",
              "        element.appendChild(docLink);\n",
              "      }\n",
              "    </script>\n",
              "  </div>\n",
              "\n",
              "\n",
              "    <div id=\"df-927e3ff4-fd37-49ff-a2b5-fc1e53ad2ce8\">\n",
              "      <button class=\"colab-df-quickchart\" onclick=\"quickchart('df-927e3ff4-fd37-49ff-a2b5-fc1e53ad2ce8')\"\n",
              "                title=\"Suggest charts\"\n",
              "                style=\"display:none;\">\n",
              "\n",
              "<svg xmlns=\"http://www.w3.org/2000/svg\" height=\"24px\"viewBox=\"0 0 24 24\"\n",
              "     width=\"24px\">\n",
              "    <g>\n",
              "        <path d=\"M19 3H5c-1.1 0-2 .9-2 2v14c0 1.1.9 2 2 2h14c1.1 0 2-.9 2-2V5c0-1.1-.9-2-2-2zM9 17H7v-7h2v7zm4 0h-2V7h2v10zm4 0h-2v-4h2v4z\"/>\n",
              "    </g>\n",
              "</svg>\n",
              "      </button>\n",
              "\n",
              "<style>\n",
              "  .colab-df-quickchart {\n",
              "      --bg-color: #E8F0FE;\n",
              "      --fill-color: #1967D2;\n",
              "      --hover-bg-color: #E2EBFA;\n",
              "      --hover-fill-color: #174EA6;\n",
              "      --disabled-fill-color: #AAA;\n",
              "      --disabled-bg-color: #DDD;\n",
              "  }\n",
              "\n",
              "  [theme=dark] .colab-df-quickchart {\n",
              "      --bg-color: #3B4455;\n",
              "      --fill-color: #D2E3FC;\n",
              "      --hover-bg-color: #434B5C;\n",
              "      --hover-fill-color: #FFFFFF;\n",
              "      --disabled-bg-color: #3B4455;\n",
              "      --disabled-fill-color: #666;\n",
              "  }\n",
              "\n",
              "  .colab-df-quickchart {\n",
              "    background-color: var(--bg-color);\n",
              "    border: none;\n",
              "    border-radius: 50%;\n",
              "    cursor: pointer;\n",
              "    display: none;\n",
              "    fill: var(--fill-color);\n",
              "    height: 32px;\n",
              "    padding: 0;\n",
              "    width: 32px;\n",
              "  }\n",
              "\n",
              "  .colab-df-quickchart:hover {\n",
              "    background-color: var(--hover-bg-color);\n",
              "    box-shadow: 0 1px 2px rgba(60, 64, 67, 0.3), 0 1px 3px 1px rgba(60, 64, 67, 0.15);\n",
              "    fill: var(--button-hover-fill-color);\n",
              "  }\n",
              "\n",
              "  .colab-df-quickchart-complete:disabled,\n",
              "  .colab-df-quickchart-complete:disabled:hover {\n",
              "    background-color: var(--disabled-bg-color);\n",
              "    fill: var(--disabled-fill-color);\n",
              "    box-shadow: none;\n",
              "  }\n",
              "\n",
              "  .colab-df-spinner {\n",
              "    border: 2px solid var(--fill-color);\n",
              "    border-color: transparent;\n",
              "    border-bottom-color: var(--fill-color);\n",
              "    animation:\n",
              "      spin 1s steps(1) infinite;\n",
              "  }\n",
              "\n",
              "  @keyframes spin {\n",
              "    0% {\n",
              "      border-color: transparent;\n",
              "      border-bottom-color: var(--fill-color);\n",
              "      border-left-color: var(--fill-color);\n",
              "    }\n",
              "    20% {\n",
              "      border-color: transparent;\n",
              "      border-left-color: var(--fill-color);\n",
              "      border-top-color: var(--fill-color);\n",
              "    }\n",
              "    30% {\n",
              "      border-color: transparent;\n",
              "      border-left-color: var(--fill-color);\n",
              "      border-top-color: var(--fill-color);\n",
              "      border-right-color: var(--fill-color);\n",
              "    }\n",
              "    40% {\n",
              "      border-color: transparent;\n",
              "      border-right-color: var(--fill-color);\n",
              "      border-top-color: var(--fill-color);\n",
              "    }\n",
              "    60% {\n",
              "      border-color: transparent;\n",
              "      border-right-color: var(--fill-color);\n",
              "    }\n",
              "    80% {\n",
              "      border-color: transparent;\n",
              "      border-right-color: var(--fill-color);\n",
              "      border-bottom-color: var(--fill-color);\n",
              "    }\n",
              "    90% {\n",
              "      border-color: transparent;\n",
              "      border-bottom-color: var(--fill-color);\n",
              "    }\n",
              "  }\n",
              "</style>\n",
              "\n",
              "      <script>\n",
              "        async function quickchart(key) {\n",
              "          const quickchartButtonEl =\n",
              "            document.querySelector('#' + key + ' button');\n",
              "          quickchartButtonEl.disabled = true;  // To prevent multiple clicks.\n",
              "          quickchartButtonEl.classList.add('colab-df-spinner');\n",
              "          try {\n",
              "            const charts = await google.colab.kernel.invokeFunction(\n",
              "                'suggestCharts', [key], {});\n",
              "          } catch (error) {\n",
              "            console.error('Error during call to suggestCharts:', error);\n",
              "          }\n",
              "          quickchartButtonEl.classList.remove('colab-df-spinner');\n",
              "          quickchartButtonEl.classList.add('colab-df-quickchart-complete');\n",
              "        }\n",
              "        (() => {\n",
              "          let quickchartButtonEl =\n",
              "            document.querySelector('#df-927e3ff4-fd37-49ff-a2b5-fc1e53ad2ce8 button');\n",
              "          quickchartButtonEl.style.display =\n",
              "            google.colab.kernel.accessAllowed ? 'block' : 'none';\n",
              "        })();\n",
              "      </script>\n",
              "    </div>\n",
              "\n",
              "    </div>\n",
              "  </div>\n"
            ],
            "application/vnd.google.colaboratory.intrinsic+json": {
              "type": "dataframe",
              "variable_name": "df",
              "summary": "{\n  \"name\": \"df\",\n  \"rows\": 3000,\n  \"fields\": [\n    {\n      \"column\": \"text\",\n      \"properties\": {\n        \"dtype\": \"string\",\n        \"num_unique_values\": 2982,\n        \"samples\": [\n          \"We've tried to like this place but after 10+ times I think we're done with them.\",\n          \"The best example of how dumb the writing is when it's established that you can turn the zombie-students back into humans by removing a necklace containing a piece of the meteorite.\",\n          \"It was that loud.Glad to say that the Plantronics 510 maintains a flawless connection to my cell and with no static during normal use.\"\n        ],\n        \"semantic_type\": \"\",\n        \"description\": \"\"\n      }\n    },\n    {\n      \"column\": \"label\",\n      \"properties\": {\n        \"dtype\": \"number\",\n        \"std\": 0,\n        \"min\": 0,\n        \"max\": 1,\n        \"num_unique_values\": 2,\n        \"samples\": [\n          1,\n          0\n        ],\n        \"semantic_type\": \"\",\n        \"description\": \"\"\n      }\n    }\n  ]\n}"
            }
          },
          "metadata": {},
          "execution_count": 38
        }
      ]
    },
    {
      "cell_type": "markdown",
      "source": [
        "# **Pregunta - 2:**"
      ],
      "metadata": {
        "id": "MfZZ0stLmWJN"
      }
    },
    {
      "cell_type": "markdown",
      "source": [
        "Realiza el proceso de limpieza. Aplica el preprocesamiento que consideres adecuado.\n",
        "\n",
        "\n",
        "\n",
        "\n",
        "\n",
        "\n",
        "\n",
        "\n",
        "\n"
      ],
      "metadata": {
        "id": "7F6JF5BommZ6"
      }
    },
    {
      "cell_type": "code",
      "source": [
        "\n",
        "# ******* Inlcuye a continuación todas las líneas de código y celdas que requieras: ***********\n",
        "\n",
        "\n",
        "nltk.download(\"stopwords\", quiet=True)\n",
        "STOP = set(stopwords.words(\"english\"))\n",
        "_url_pat = re.compile(r\"http\\S+|www\\S+\")\n",
        "\n",
        "def clean(text: str) -> str:\n",
        "    text = unicodedata.normalize(\"NFKD\", text).encode(\"ascii\", \"ignore\").decode()\n",
        "    text = text.lower()\n",
        "    text = _url_pat.sub(\"\", text)\n",
        "    text = text.translate(str.maketrans(\"\", \"\", string.punctuation))\n",
        "    toks = [w for w in text.split() if w not in STOP]\n",
        "    return \" \".join(toks)\n",
        "\n",
        "# Xclean y Y\n",
        "Xclean = df[\"text\"].map(clean).values\n",
        "Y      = df[\"label\"].values\n",
        "\n",
        "\n",
        "# *********** Aquí termina la sección de agregar código *************"
      ],
      "metadata": {
        "id": "TsnvMp-7oYCM"
      },
      "execution_count": null,
      "outputs": []
    },
    {
      "cell_type": "code",
      "source": [
        "# Despleguemos los primeros comentarios después de tu proceso de limpieza:\n",
        "\n",
        "for x in Xclean[0:5]:\n",
        "  print(x)\n"
      ],
      "metadata": {
        "id": "7jlQuoI2o33T",
        "colab": {
          "base_uri": "https://localhost:8080/"
        },
        "outputId": "747b0279-ee4e-471e-a0ca-a7b7adf60160"
      },
      "execution_count": null,
      "outputs": [
        {
          "output_type": "stream",
          "name": "stdout",
          "text": [
            "way plug us unless go converter\n",
            "good case excellent value\n",
            "great jawbone\n",
            "tied charger conversations lasting 45 minutesmajor problems\n",
            "mic great\n"
          ]
        }
      ]
    },
    {
      "cell_type": "markdown",
      "source": [
        "# **Pregunta - 3:**\n"
      ],
      "metadata": {
        "id": "ygchEdcKqIzU"
      }
    },
    {
      "cell_type": "markdown",
      "source": [
        "\n",
        "Realicemos una partición aleatoria con los mismos porcentajes de la práctica pasada para poder comparar dichos resultados con los de\n",
        "esta actividad, a saber, 70%, 15% y 15%, para entrenamiento, validación y prueba, respectivamente."
      ],
      "metadata": {
        "id": "7wEIOkkl9Dot"
      }
    },
    {
      "cell_type": "code",
      "source": [
        "\n",
        "# ************* Inicia la sección de agregar código:*****************************\n",
        "\n",
        "Xclean_train, Xclean_temp, Y_train, Y_temp = train_test_split(\n",
        "    Xclean, Y, test_size=0.30, random_state=42, stratify=Y)\n",
        "Xclean_val, Xclean_test, Y_val, Y_test = train_test_split(\n",
        "    Xclean_temp, Y_temp, test_size=0.50, random_state=42, stratify=Y_temp)\n",
        "\n",
        "x_train, x_val, x_test = Xclean_train, Xclean_val, Xclean_test\n",
        "y_train, y_val, y_test = Y_train, Y_val, Y_test\n",
        "\n",
        "# *********** Termina la sección de agregar código *************\n",
        "\n",
        "\n",
        "# verificemos las dimensiones obtenidas:\n",
        "print('X,y Train:', len(x_train), len(y_train))\n",
        "print('X,y Val:', len(x_val), len(y_val))\n",
        "print('X,y Test', len(x_test), len(y_test))"
      ],
      "metadata": {
        "id": "b0SAcYdq9X0w",
        "colab": {
          "base_uri": "https://localhost:8080/"
        },
        "outputId": "d9bf4aeb-eecc-409a-db71-5cd4342860ee"
      },
      "execution_count": null,
      "outputs": [
        {
          "output_type": "stream",
          "name": "stdout",
          "text": [
            "X,y Train: 2100 2100\n",
            "X,y Val: 450 450\n",
            "X,y Test 450 450\n"
          ]
        }
      ]
    },
    {
      "cell_type": "markdown",
      "source": [
        "# **Pregunta - 4:**"
      ],
      "metadata": {
        "id": "1qjKoEqiqBN1"
      }
    },
    {
      "cell_type": "markdown",
      "source": [
        "\n",
        "\n",
        "Construye tu vocabulario a continuación\n"
      ],
      "metadata": {
        "id": "jENsKiN99r3F"
      }
    },
    {
      "cell_type": "code",
      "source": [
        "# a.\tUsa el conjunto de entrenamiento para generar tu vocabulario\n",
        "#     con un tamaño que consideres adecuado:\n",
        "\n",
        "\n",
        "# ******* Inlcuye a continuación todas las líneas de código y celdas que requieras: ***********\n",
        "\n",
        "\n",
        "min_freq, min_len = 2, 3  # ajusta si quieres experimentar\n",
        "cnt = Counter(tok for doc in Xclean_train for tok in doc.split())\n",
        "vocab = {tok for tok, c in cnt.items() if c >= min_freq and len(tok) >= min_len}\n",
        "\n",
        "\n",
        "# *********** Aquí termina la sección de agregar código *************"
      ],
      "metadata": {
        "id": "TzJntmLPqPqC"
      },
      "execution_count": null,
      "outputs": []
    },
    {
      "cell_type": "code",
      "source": [
        "# b.\tIndica el tamaño del vocabulario generado.\n",
        "\n",
        "print('Longitud del vocabulario generado:')\n",
        "\n",
        "\n",
        "# ******* Inicia la sección de agregar código: ***********\n",
        "\n",
        "\n",
        "len(vocab)\n",
        "\n",
        "\n",
        "# *********** Aquí termina la sección de agregar código *************"
      ],
      "metadata": {
        "id": "yTDZ0Rr86CUP",
        "colab": {
          "base_uri": "https://localhost:8080/"
        },
        "outputId": "dab1d0ec-3a90-4ec8-8f72-59b162ce38d9"
      },
      "execution_count": null,
      "outputs": [
        {
          "output_type": "stream",
          "name": "stdout",
          "text": [
            "Longitud del vocabulario generado:\n"
          ]
        },
        {
          "output_type": "execute_result",
          "data": {
            "text/plain": [
              "1595"
            ]
          },
          "metadata": {},
          "execution_count": 50
        }
      ]
    },
    {
      "cell_type": "markdown",
      "source": [
        "c.\t¿Por qué debe usarse solamente el conjunto de entrenamiento para generar el vocabulario?\n",
        "\n",
        "\n",
        "### ++++++++ Inicia la sección de agregar texto: +++++++++++\n",
        "\n",
        "El vocabulario se construye SOLO con Train para evitar data leakage.\n",
        "\n",
        "### ++++++++ Termina la sección de agregar texto: +++++++++++\n"
      ],
      "metadata": {
        "id": "NDa4EhTqrw15"
      }
    },
    {
      "cell_type": "code",
      "source": [
        "# d.\tCon el vocabulario generado, filtra los conjuntos de entrenamiento,\n",
        "#     validación y prueba para que todos los comentarios usen solamente las\n",
        "#     palabras de este vocabulario.\n",
        "\n",
        "#     Llamar train_x, val_x y test_x a estos tres conjuntos.\n",
        "\n",
        "\n",
        "# ******* Inlcuye a continuación todas las líneas de código y celdas que requieras: ***********\n",
        "\n",
        "\n",
        "def filter_doc(doc: str) -> str:\n",
        "    return \" \".join(tok for tok in doc.split() if tok in vocab)\n",
        "\n",
        "train_docs = [filter_doc(d) for d in Xclean_train]\n",
        "val_docs   = [filter_doc(d) for d in Xclean_val]\n",
        "test_docs  = [filter_doc(d) for d in Xclean_test]\n",
        "\n",
        "train_x, val_x, test_x = train_docs, val_docs, test_docs\n",
        "\n",
        "\n",
        "# *********** Aquí termina la sección de agregar código *************\n"
      ],
      "metadata": {
        "id": "7ykjxQI3rpxx"
      },
      "execution_count": null,
      "outputs": []
    },
    {
      "cell_type": "code",
      "source": [
        "# Vemos el resultado de los primeros comentarios del conjunto de entrenamiento:\n",
        "\n",
        "for ss in train_x[0:5]:\n",
        "  print(ss)"
      ],
      "metadata": {
        "id": "iYF2RGuPtQTC",
        "colab": {
          "base_uri": "https://localhost:8080/"
        },
        "outputId": "6583e713-ae2b-4972-a703-ab8f3e02fea0"
      },
      "execution_count": null,
      "outputs": [
        {
          "output_type": "stream",
          "name": "stdout",
          "text": [
            "least passed ordering food wasnt busy\n",
            "extraordinary liked sliced white\n",
            "use french three films nothing short incredible every shot every scene like work art\n",
            "predictable bad watch\n",
            "enjoyed\n"
          ]
        }
      ]
    },
    {
      "cell_type": "markdown",
      "source": [
        "# **Pregunta - 5:**"
      ],
      "metadata": {
        "id": "RS0Hxj25vTWh"
      }
    },
    {
      "cell_type": "markdown",
      "source": [
        "\n",
        "#### **Incluye aquí un resumen de las características y diferencias que tiene al menos los tres modelos de OpenAI indicados: \"text-embedding-3-small\", \"text-embedding-3-large\" y \"text-embedding-ada-002\".**"
      ],
      "metadata": {
        "id": "CnHHAza5_P5Z"
      }
    },
    {
      "cell_type": "markdown",
      "source": [
        "### ++++++++ Inicia la sección de agregar texto: +++++++++++\n",
        "\n",
        "`text-embedding-3-small`\n",
        "\n",
        "* Dimensiones: 1,536\n",
        "* Ventana de contexto: hasta 8,192 tokens\n",
        "* Costo: moderado\n",
        "* Ideal para: proyectos que buscan buen rendimiento sin gastar mucho.\n",
        "\n",
        "`text-embedding-3-large`\n",
        "\n",
        "* Dimensiones: 3,072\n",
        "* Ventana de contexto: hasta 8,192 tokens\n",
        "* Costo: más alto\n",
        "* Ideal para: aplicaciones que requieren la máxima precisión.\n",
        "\n",
        "`text-embedding-ada-002`\n",
        "\n",
        "* Dimensiones: 1,536\n",
        "* Ventana de contexto: hasta 8,192 tokens\n",
        "* Costo: muy bajo\n",
        "* Ideal para: proyectos con presupuesto limitado o tareas básicas.\n",
        "\n",
        "### ++++++++ Termina la sección de agregar texto: +++++++++++\n"
      ],
      "metadata": {
        "id": "uTI9xSgF_Xc8"
      }
    },
    {
      "cell_type": "markdown",
      "source": [
        "# **Pregunta - 6:**\n"
      ],
      "metadata": {
        "id": "ToqRl7fT_fn2"
      }
    },
    {
      "cell_type": "markdown",
      "source": [
        "#### **Diccionario clave-valor de palabras del diccionario y vectores embebidos.**"
      ],
      "metadata": {
        "id": "BKqQk03oqoOD"
      }
    },
    {
      "cell_type": "code",
      "source": [
        "# ******* Inlcuye a continuación todas las líneas de código y celdas que requieras: ***********\n",
        "\n",
        "\n",
        "EMB_MODEL   = \"text-embedding-3-small\"\n",
        "CACHE_FILE  = CACHE_DIR / \"emb_vocab.pkl\"\n",
        "BATCH_SIZE  = 100\n",
        "enc = tiktoken.encoding_for_model(EMB_MODEL)\n",
        "\n",
        "# ---------- 1. Carga caché si existe -----------------------------------------\n",
        "if CACHE_FILE.exists():\n",
        "    with open(CACHE_FILE, \"rb\") as f:\n",
        "        emb_vocab, total_tokens = pickle.load(f)\n",
        "    print(f\"⬇️  Cargados {len(emb_vocab):,} embeddings de {CACHE_FILE}\")\n",
        "else:\n",
        "    emb_vocab, total_tokens = {}, 0\n",
        "\n",
        "# ---------- 2. Embeddings faltantes ------------------------------------------\n",
        "missing = sorted([w for w in vocab if w not in emb_vocab])\n",
        "print(\"🔍 Palabras faltantes:\", len(missing))\n",
        "\n",
        "for i in tqdm(range(0, len(missing), BATCH_SIZE), desc=\"Solicitando a OpenAI\"):\n",
        "    batch = missing[i:i+BATCH_SIZE]\n",
        "\n",
        "    # tokens facturados para este batch\n",
        "    total_tokens += sum(len(enc.encode(w)) for w in batch)\n",
        "\n",
        "    response = openai.embeddings.create(model=EMB_MODEL, input=batch)\n",
        "    for obj in response.data:\n",
        "        # Access attributes using dot notation instead of square brackets\n",
        "        emb_vocab[batch[obj.index]] = obj.embedding\n",
        "\n",
        "    time.sleep(0.3)     # evita rate-limit\n",
        "\n",
        "# ---------- 3. Guarda diccionario + metadatos --------------------------------\n",
        "with open(CACHE_FILE, \"wb\") as f:\n",
        "    pickle.dump((emb_vocab, total_tokens), f)\n",
        "\n",
        "print(f\"💾 Diccionario guardado en: {CACHE_FILE}\")\n",
        "print(f\"📐 Dimensión del vector: {len(next(iter(emb_vocab.values())))}\")\n",
        "print(f\"🔢 Tokens facturados acumulados: {total_tokens:,}\")\n",
        "\n",
        "# ---------- 4. Estimación rápida de costo (USD) ------------------------------\n",
        "PRICE_PER_1K = {\"text-embedding-3-small\": 0.00002,\n",
        "                \"text-embedding-3-large\": 0.00006,\n",
        "                \"text-embedding-ada-002\": 0.00010}\n",
        "usd_cost = total_tokens/1000 * PRICE_PER_1K[EMB_MODEL]\n",
        "print(f\"💲 Costo aproximado: ${usd_cost:.4f} USD\")\n",
        "\n",
        "\n",
        "# *********** Aquí termina la sección de agregar código *************"
      ],
      "metadata": {
        "id": "UdK-jMfLxHLY",
        "colab": {
          "base_uri": "https://localhost:8080/",
          "height": 136,
          "referenced_widgets": [
            "b42eeacd9e7845ff9bcf0b6946f5b889",
            "5216877b7147475089502df6b51cc0a3",
            "0a02c53705d54b9b99a2180076adbc66",
            "339663c5ed6c4cc1acd8095a34669316",
            "0baa0a9cf0e8432a938f6f7bf669e856",
            "0168fac2a90e4e3385e90a0088ea5168",
            "3463a4dc85b4479d9187da163a93b9d7",
            "4b7eaedbe88946fc8e9849cb13becd6b",
            "d29245bdc1884d36bfe132743a678c7e",
            "cd8de663b49f4591b9a363d327855d0c",
            "8119be4285a44dc0a79bafaadf1c7b86"
          ]
        },
        "outputId": "8c61d739-afcd-48de-a9ad-afabb083c865"
      },
      "execution_count": null,
      "outputs": [
        {
          "output_type": "stream",
          "name": "stdout",
          "text": [
            "🔍 Palabras faltantes: 1595\n"
          ]
        },
        {
          "output_type": "display_data",
          "data": {
            "text/plain": [
              "Solicitando a OpenAI:   0%|          | 0/16 [00:00<?, ?it/s]"
            ],
            "application/vnd.jupyter.widget-view+json": {
              "version_major": 2,
              "version_minor": 0,
              "model_id": "b42eeacd9e7845ff9bcf0b6946f5b889"
            }
          },
          "metadata": {}
        },
        {
          "output_type": "stream",
          "name": "stdout",
          "text": [
            "💾 Diccionario guardado en: cache/emb_vocab.pkl\n",
            "📐 Dimensión del vector: 1536\n",
            "🔢 Tokens facturados acumulados: 2,413\n",
            "💲 Costo aproximado: $0.0000 USD\n"
          ]
        }
      ]
    },
    {
      "cell_type": "markdown",
      "source": [
        "# **Pregunta - 7:**"
      ],
      "metadata": {
        "id": "W4S7q0yR0Mpi"
      }
    },
    {
      "cell_type": "markdown",
      "source": [
        "\n",
        "\n",
        "Generamos los vectores embebidos a partir de los conjuntos de entrenamiento, validación y prueba.\n",
        "\n",
        "Los llamaremos trainEmb, valEmb y testEmb, respectivamente."
      ],
      "metadata": {
        "id": "VyeOrkoaC1eq"
      }
    },
    {
      "cell_type": "code",
      "source": [
        "# ******* Inlcuye a continuación todas las líneas de código y celdas que requieras: ***********\n",
        "\n",
        "\n",
        "DIM = len(next(iter(emb_vocab.values())))\n",
        "\n",
        "def doc2vec(doc: str) -> np.ndarray:\n",
        "    vecs = [emb_vocab[w] for w in doc.split() if w in emb_vocab]\n",
        "    if not vecs:\n",
        "        return np.zeros(DIM, dtype=\"float32\")\n",
        "    return np.mean(vecs, axis=0).astype(\"float32\")\n",
        "\n",
        "def build_matrix(docs, name):\n",
        "    out = CACHE_DIR / f\"{name}.npy\"\n",
        "    if out.exists():\n",
        "        return np.load(out)\n",
        "    mat = np.vstack([doc2vec(d) for d in docs])\n",
        "    np.save(out, mat)\n",
        "    return mat\n",
        "\n",
        "trainEmb = build_matrix(train_x, \"trainEmb\")\n",
        "valEmb   = build_matrix(val_x,   \"valEmb\")\n",
        "testEmb  = build_matrix(test_x,  \"testEmb\")\n",
        "\n",
        "# % de comentarios sin ninguna palabra reconocida\n",
        "pct_empty = 100 * (trainEmb == 0).all(axis=1).mean()\n",
        "print(f\"Comentarios sin tokens del vocabulario: {pct_empty:.2f}%\")\n",
        "\n",
        "\n",
        "# *********** Aquí termina la sección de agregar código *************"
      ],
      "metadata": {
        "id": "wnfQpkxg0Usq",
        "colab": {
          "base_uri": "https://localhost:8080/"
        },
        "outputId": "f56d4aaf-19ae-4642-c1c1-e0768f62a5a3"
      },
      "execution_count": null,
      "outputs": [
        {
          "output_type": "stream",
          "name": "stdout",
          "text": [
            "Comentarios sin tokens del vocabulario: 0.67%\n"
          ]
        }
      ]
    },
    {
      "cell_type": "code",
      "source": [
        "# Veamos las dimensiones de cada conjunto embebido:\n",
        "\n",
        "print(\"Train-Emb:\", trainEmb.shape)\n",
        "print(\"Val-Emb:\", valEmb.shape)\n",
        "print(\"Test-Emb:\", testEmb.shape)"
      ],
      "metadata": {
        "id": "J3BBF96D0N8Z",
        "colab": {
          "base_uri": "https://localhost:8080/"
        },
        "outputId": "04eb36af-d4fa-4689-9a5b-1d54ae0a0d91"
      },
      "execution_count": null,
      "outputs": [
        {
          "output_type": "stream",
          "name": "stdout",
          "text": [
            "Train-Emb: (2100, 1536)\n",
            "Val-Emb: (450, 1536)\n",
            "Test-Emb: (450, 1536)\n"
          ]
        }
      ]
    },
    {
      "cell_type": "markdown",
      "source": [
        "# **Pregunta - 8:**\n"
      ],
      "metadata": {
        "id": "pibp1LA91CP_"
      }
    },
    {
      "cell_type": "markdown",
      "source": [
        "\n",
        "Utiliza los modelos de regresión logística y bosque aleatorio (random forest) y encuentra sus desempeños.\n",
        "\n",
        "Compara los resultados con los de la semana anterior."
      ],
      "metadata": {
        "id": "UxC9K0VnGOwG"
      }
    },
    {
      "cell_type": "code",
      "source": [
        "# REGRESIÓN LOGÍSTICA:\n",
        "\n",
        "# ******* Inlcuye a continuación todas las líneas de código y celdas que requieras: ***********\n",
        "\n",
        "\n",
        "logreg = make_pipeline(\n",
        "    StandardScaler(with_mean=False),        # no centra (matrices dispersas)\n",
        "    LogisticRegression(\n",
        "        penalty=\"l2\",\n",
        "        max_iter=1000,\n",
        "        random_state=42,\n",
        "        n_jobs=-1,\n",
        "    )\n",
        ").fit(trainEmb, Y_train)\n",
        "\n",
        "Y_val_pred_lr = logreg.predict(valEmb)\n",
        "val_acc_lr    = accuracy_score(Y_val, Y_val_pred_lr)\n",
        "\n",
        "print(\"=== Regresión Logística – VALIDACIÓN ===\")\n",
        "print(f\"Accuracy: {val_acc_lr:.4f}\")\n",
        "print(classification_report(Y_val, Y_val_pred_lr, digits=4))\n",
        "\n",
        "\n",
        "# *********** Aquí termina la sección de agregar código *************\n"
      ],
      "metadata": {
        "id": "ycwjD8ztGOL7",
        "colab": {
          "base_uri": "https://localhost:8080/"
        },
        "outputId": "47988052-1008-4f5f-d997-a9e1cdfeb7fa"
      },
      "execution_count": null,
      "outputs": [
        {
          "output_type": "stream",
          "name": "stdout",
          "text": [
            "=== Regresión Logística – VALIDACIÓN ===\n",
            "Accuracy: 0.7222\n",
            "              precision    recall  f1-score   support\n",
            "\n",
            "           0     0.7451    0.6756    0.7086       225\n",
            "           1     0.7033    0.7689    0.7346       225\n",
            "\n",
            "    accuracy                         0.7222       450\n",
            "   macro avg     0.7242    0.7222    0.7216       450\n",
            "weighted avg     0.7242    0.7222    0.7216       450\n",
            "\n"
          ]
        }
      ]
    },
    {
      "cell_type": "code",
      "source": [
        "# BOSQUE ALEATORIO (Random Forest):\n",
        "\n",
        "# ******* Inlcuye a continuación todas las líneas de código y celdas que requieras: ***********\n",
        "\n",
        "\n",
        "rf = RandomForestClassifier(\n",
        "        n_estimators=500,\n",
        "        max_depth=None,\n",
        "        random_state=42,\n",
        "        n_jobs=-1,\n",
        "    ).fit(trainEmb, Y_train)\n",
        "\n",
        "Y_val_pred_rf = rf.predict(valEmb)\n",
        "val_acc_rf    = accuracy_score(Y_val, Y_val_pred_rf)\n",
        "\n",
        "print(\"\\n=== Random Forest – VALIDACIÓN ===\")\n",
        "print(f\"Accuracy: {val_acc_rf:.4f}\")\n",
        "print(classification_report(Y_val, Y_val_pred_rf, digits=4))\n",
        "\n",
        "\n",
        "# *********** Aquí termina la sección de agregar código *************"
      ],
      "metadata": {
        "id": "N4n70GHW0sl3",
        "colab": {
          "base_uri": "https://localhost:8080/"
        },
        "outputId": "3617157c-fd78-4e11-d504-2cebbf730567"
      },
      "execution_count": null,
      "outputs": [
        {
          "output_type": "stream",
          "name": "stdout",
          "text": [
            "\n",
            "=== Random Forest – VALIDACIÓN ===\n",
            "Accuracy: 0.7800\n",
            "              precision    recall  f1-score   support\n",
            "\n",
            "           0     0.8214    0.7156    0.7648       225\n",
            "           1     0.7480    0.8444    0.7933       225\n",
            "\n",
            "    accuracy                         0.7800       450\n",
            "   macro avg     0.7847    0.7800    0.7791       450\n",
            "weighted avg     0.7847    0.7800    0.7791       450\n",
            "\n"
          ]
        }
      ]
    },
    {
      "cell_type": "markdown",
      "source": [
        "# **Pregunta - 9:**"
      ],
      "metadata": {
        "id": "WDIiSHvg0_hm"
      }
    },
    {
      "cell_type": "markdown",
      "source": [
        "\n",
        "\n",
        "Reporte del mejor modelo con el conjunto de Prueba (Test).\n"
      ],
      "metadata": {
        "id": "dJJtALGZHrGk"
      }
    },
    {
      "cell_type": "code",
      "source": [
        "# ******* Inlcuye a continuación todas las líneas de código y celdas que requieras: ***********\n",
        "\n",
        "\n",
        "best_model, best_name, best_val_acc = (logreg, \"LogReg\", val_acc_lr) \\\n",
        "    if val_acc_lr >= val_acc_rf else (rf, \"RandForest\", val_acc_rf)\n",
        "\n",
        "print(f\"\\n🏆  Mejor modelo en validación: {best_name} \"\n",
        "      f\"(accuracy {best_val_acc:.4f})\")\n",
        "\n",
        "Y_test_pred = best_model.predict(testEmb)\n",
        "print(\"=== Desempeño en TEST ===\")\n",
        "print(classification_report(Y_test, Y_test_pred, digits=4))\n",
        "\n",
        "\n",
        "# *********** Aquí termina la sección de agregar código *************"
      ],
      "metadata": {
        "id": "ETv4VLjP1GYt",
        "colab": {
          "base_uri": "https://localhost:8080/"
        },
        "outputId": "505ff439-199a-4099-c097-28657b7ffc4a"
      },
      "execution_count": null,
      "outputs": [
        {
          "output_type": "stream",
          "name": "stdout",
          "text": [
            "\n",
            "🏆  Mejor modelo en validación: RandForest (accuracy 0.7800)\n",
            "=== Desempeño en TEST ===\n",
            "              precision    recall  f1-score   support\n",
            "\n",
            "           0     0.8111    0.7822    0.7964       225\n",
            "           1     0.7897    0.8178    0.8035       225\n",
            "\n",
            "    accuracy                         0.8000       450\n",
            "   macro avg     0.8004    0.8000    0.7999       450\n",
            "weighted avg     0.8004    0.8000    0.7999       450\n",
            "\n"
          ]
        }
      ]
    },
    {
      "cell_type": "markdown",
      "source": [
        "# **Pregunta - 10:**"
      ],
      "metadata": {
        "id": "NbhBUBKJp1MB"
      }
    },
    {
      "cell_type": "code",
      "source": [
        "# Incluye todas las líneas de código y celdas que consideres adecuadas para este ejercicio.\n",
        "\n",
        "\n",
        "# ---------- a) Embeddings de los 3 000 comentarios --------------------------\n",
        "DOC_MODEL  = \"text-embedding-3-small\"\n",
        "DOC_FILE   = CACHE_DIR / \"docEmbeddings.npy\"   # matriz (3000, dim)\n",
        "TOK_FILE   = CACHE_DIR / \"doc_tokens.pkl\"      # cache de tokens usados\n",
        "\n",
        "enc = tiktoken.encoding_for_model(DOC_MODEL)\n",
        "if openai.api_key is None:                      # ya se configuró antes\n",
        "    openai.api_key = os.getenv(\"OPENAI_API_KEY\")\n",
        "\n",
        "if DOC_FILE.exists() and TOK_FILE.exists():\n",
        "    fullEmb   = np.load(DOC_FILE)\n",
        "    total_tok = pickle.loads(TOK_FILE.read_bytes())\n",
        "    print(f\"⬇️  Embeddings cargados de {DOC_FILE}\")\n",
        "else:\n",
        "    comments   = df[\"text\"].tolist()            # ← texto original\n",
        "    dims       = None\n",
        "    fullEmb    = np.empty((len(comments), 1536), dtype=\"float32\")  # 1536 para 3-small\n",
        "    total_tok  = 0\n",
        "\n",
        "    for i in tqdm(range(len(comments)), desc=\"OpenAI – doc embeddings\"):\n",
        "        txt   = comments[i]\n",
        "        total_tok += len(enc.encode(txt))\n",
        "        rsp   = openai.embeddings.create(model=DOC_MODEL, input=txt)\n",
        "        vec   = rsp.data[0].embedding\n",
        "        if dims is None:                        # 1ª vez sabemos la dimensión real\n",
        "            dims = len(vec)\n",
        "            fullEmb = np.empty((len(comments), dims), dtype=\"float32\")\n",
        "        fullEmb[i] = vec\n",
        "        time.sleep(0.15)                        # limita QPS\n",
        "\n",
        "    np.save(DOC_FILE, fullEmb)\n",
        "    TOK_FILE.write_bytes(pickle.dumps(total_tok))\n",
        "    print(f\"💾  Matriz guardada en {DOC_FILE}\")\n",
        "\n",
        "print(f\"🔢  Tokens facturados (comentarios): {total_tok:,}\")\n",
        "usd = total_tok/1000 * 0.00002                 # precio text-embedding-3-small\n",
        "print(f\"💲  Costo aprox.: ${usd:.4f} USD\")\n",
        "\n",
        "# ---------- b) Split 70-15-15 con la misma semilla 42 -----------------------\n",
        "X_train, X_temp, Y_train_b, Y_temp_b = train_test_split(\n",
        "    fullEmb, Y, test_size=0.30, random_state=42, stratify=Y)\n",
        "X_val,   X_test, Y_val_b,   Y_test_b = train_test_split(\n",
        "    X_temp,  Y_temp_b, test_size=0.50, random_state=42, stratify=Y_temp_b)\n",
        "\n",
        "print(\"Shapes:\", X_train.shape, X_val.shape, X_test.shape)\n",
        "\n",
        "# ---------- c-1) Regresión Logística ----------------------------------------\n",
        "pipe_lr = make_pipeline(\n",
        "    StandardScaler(with_mean=False),\n",
        "    LogisticRegression(max_iter=1000, n_jobs=-1, random_state=42)\n",
        ").fit(X_train, Y_train_b)\n",
        "\n",
        "print(\"\\n=== LogisticRegression – VALIDACIÓN ===\")\n",
        "print(classification_report(Y_val_b, pipe_lr.predict(X_val), digits=4))\n",
        "\n",
        "# ---------- c-2) Random Forest ----------------------------------------------\n",
        "rf_b = RandomForestClassifier(\n",
        "    n_estimators=500, random_state=42, n_jobs=-1).fit(X_train, Y_train_b)\n",
        "\n",
        "print(\"\\n=== Random Forest – VALIDACIÓN ===\")\n",
        "print(classification_report(Y_val_b, rf_b.predict(X_val), digits=4))\n",
        "\n",
        "# ---------- c-3) Desempeño final en TEST + comparación ----------------------\n",
        "for name, mdl in [(\"LogReg\", pipe_lr), (\"RandForest\", rf_b)]:\n",
        "    print(f\"\\n🏁  {name} – TEST\")\n",
        "    print(classification_report(Y_test_b, mdl.predict(X_test), digits=4))\n",
        "\n",
        "\n"
      ],
      "metadata": {
        "id": "3zPSi-H7p6ga",
        "colab": {
          "base_uri": "https://localhost:8080/",
          "height": 882,
          "referenced_widgets": [
            "98750967fea546e7ba7a17b7185d2749",
            "570ea1e9b7784158a85f88d19177e5ea",
            "586ca95baf554f37a4ab187c2de90c61",
            "7446f61ec40548c485b06490cba5d395",
            "23e75d2f485a49d9a674f26c2cd8f325",
            "df2e224cf18844fe8e965eff580a79df",
            "5b179f0ce43e413b9bf8e47d79ff0cb3",
            "16bac9de905143cd9fff0da0dfe75474",
            "25bc8a398c2e4176aff6201efdc84047",
            "6d011c09504545fc85f2d474b8865f0d",
            "7e0d3e2f2d934b248a6fa6f2de641d36"
          ]
        },
        "outputId": "ee91781f-5085-4a0a-b97b-f80248fd1c37"
      },
      "execution_count": null,
      "outputs": [
        {
          "output_type": "display_data",
          "data": {
            "text/plain": [
              "OpenAI – doc embeddings:   0%|          | 0/3000 [00:00<?, ?it/s]"
            ],
            "application/vnd.jupyter.widget-view+json": {
              "version_major": 2,
              "version_minor": 0,
              "model_id": "98750967fea546e7ba7a17b7185d2749"
            }
          },
          "metadata": {}
        },
        {
          "output_type": "stream",
          "name": "stdout",
          "text": [
            "💾  Matriz guardada en cache/docEmbeddings.npy\n",
            "🔢  Tokens facturados (comentarios): 43,804\n",
            "💲  Costo aprox.: $0.0009 USD\n",
            "Shapes: (2100, 1536) (450, 1536) (450, 1536)\n",
            "\n",
            "=== LogisticRegression – VALIDACIÓN ===\n",
            "              precision    recall  f1-score   support\n",
            "\n",
            "           0     0.9736    0.9822    0.9779       225\n",
            "           1     0.9821    0.9733    0.9777       225\n",
            "\n",
            "    accuracy                         0.9778       450\n",
            "   macro avg     0.9778    0.9778    0.9778       450\n",
            "weighted avg     0.9778    0.9778    0.9778       450\n",
            "\n",
            "\n",
            "=== Random Forest – VALIDACIÓN ===\n",
            "              precision    recall  f1-score   support\n",
            "\n",
            "           0     0.9865    0.9778    0.9821       225\n",
            "           1     0.9780    0.9867    0.9823       225\n",
            "\n",
            "    accuracy                         0.9822       450\n",
            "   macro avg     0.9823    0.9822    0.9822       450\n",
            "weighted avg     0.9823    0.9822    0.9822       450\n",
            "\n",
            "\n",
            "🏁  LogReg – TEST\n",
            "              precision    recall  f1-score   support\n",
            "\n",
            "           0     0.9822    0.9822    0.9822       225\n",
            "           1     0.9822    0.9822    0.9822       225\n",
            "\n",
            "    accuracy                         0.9822       450\n",
            "   macro avg     0.9822    0.9822    0.9822       450\n",
            "weighted avg     0.9822    0.9822    0.9822       450\n",
            "\n",
            "\n",
            "🏁  RandForest – TEST\n",
            "              precision    recall  f1-score   support\n",
            "\n",
            "           0     0.9865    0.9733    0.9799       225\n",
            "           1     0.9737    0.9867    0.9801       225\n",
            "\n",
            "    accuracy                         0.9800       450\n",
            "   macro avg     0.9801    0.9800    0.9800       450\n",
            "weighted avg     0.9801    0.9800    0.9800       450\n",
            "\n"
          ]
        }
      ]
    },
    {
      "cell_type": "markdown",
      "source": [
        "# **Pregunta - 11:**"
      ],
      "metadata": {
        "id": "YCkh2WfN1MC1"
      }
    },
    {
      "cell_type": "markdown",
      "source": [
        "\n",
        "\n",
        "Incluye tus comentarios finales de la actividad.\n",
        "\n",
        "### ++++++++ Inicia la sección de agregar texto: +++++++++++\n",
        "\n",
        "Esta actividad nos permitió comprender a fondo cómo los modelos de embeddings de OpenAI pueden utilizarse para representar texto de manera densa y significativa en tareas de procesamiento de lenguaje natural. Al trabajar con distintos modelos como text-embedding-3-small y text-embedding-ada-002, observamos cómo varía el desempeño del modelo de clasificación en función del tipo de embedding utilizado, lo cual es clave al momento de elegir un modelo según los recursos y objetivos de un proyecto.\n",
        "\n",
        "Además, nos pareció especialmente valioso integrar los embeddings con modelos clásicos como regresión logística y random forest. Esto reafirma que técnicas avanzadas de representación de texto pueden aprovecharse incluso con clasificadores tradicionales, siempre que se haga un buen preprocesamiento y selección de características.\n",
        "\n",
        "### ++++++++ Termina la sección de agregar texto: +++++++++++"
      ],
      "metadata": {
        "id": "4ySFuDQtVuK5"
      }
    },
    {
      "cell_type": "markdown",
      "source": [
        "# **Fin de la Actividad de Vectores Embebidos - OpenAI**"
      ],
      "metadata": {
        "id": "bgKHmQTbWJT1"
      }
    }
  ]
}